{
 "cells": [
  {
   "cell_type": "markdown",
   "metadata": {
    "id": "alIIEHibGc3M"
   },
   "source": [
    "## Part 1: Preprocessing"
   ]
  },
  {
   "cell_type": "code",
   "execution_count": 1,
   "metadata": {
    "colab": {
     "base_uri": "https://localhost:8080/",
     "height": 325
    },
    "id": "6eDUJ4NtGc3P",
    "outputId": "2480098c-135c-4cbf-9552-018494ee8ff5"
   },
   "outputs": [
    {
     "data": {
      "text/html": [
       "<div>\n",
       "<style scoped>\n",
       "    .dataframe tbody tr th:only-of-type {\n",
       "        vertical-align: middle;\n",
       "    }\n",
       "\n",
       "    .dataframe tbody tr th {\n",
       "        vertical-align: top;\n",
       "    }\n",
       "\n",
       "    .dataframe thead th {\n",
       "        text-align: right;\n",
       "    }\n",
       "</style>\n",
       "<table border=\"1\" class=\"dataframe\">\n",
       "  <thead>\n",
       "    <tr style=\"text-align: right;\">\n",
       "      <th></th>\n",
       "      <th>Age</th>\n",
       "      <th>Attrition</th>\n",
       "      <th>BusinessTravel</th>\n",
       "      <th>Department</th>\n",
       "      <th>DistanceFromHome</th>\n",
       "      <th>Education</th>\n",
       "      <th>EducationField</th>\n",
       "      <th>EnvironmentSatisfaction</th>\n",
       "      <th>HourlyRate</th>\n",
       "      <th>JobInvolvement</th>\n",
       "      <th>...</th>\n",
       "      <th>PerformanceRating</th>\n",
       "      <th>RelationshipSatisfaction</th>\n",
       "      <th>StockOptionLevel</th>\n",
       "      <th>TotalWorkingYears</th>\n",
       "      <th>TrainingTimesLastYear</th>\n",
       "      <th>WorkLifeBalance</th>\n",
       "      <th>YearsAtCompany</th>\n",
       "      <th>YearsInCurrentRole</th>\n",
       "      <th>YearsSinceLastPromotion</th>\n",
       "      <th>YearsWithCurrManager</th>\n",
       "    </tr>\n",
       "  </thead>\n",
       "  <tbody>\n",
       "    <tr>\n",
       "      <th>0</th>\n",
       "      <td>41</td>\n",
       "      <td>Yes</td>\n",
       "      <td>Travel_Rarely</td>\n",
       "      <td>Sales</td>\n",
       "      <td>1</td>\n",
       "      <td>2</td>\n",
       "      <td>Life Sciences</td>\n",
       "      <td>2</td>\n",
       "      <td>94</td>\n",
       "      <td>3</td>\n",
       "      <td>...</td>\n",
       "      <td>3</td>\n",
       "      <td>1</td>\n",
       "      <td>0</td>\n",
       "      <td>8</td>\n",
       "      <td>0</td>\n",
       "      <td>1</td>\n",
       "      <td>6</td>\n",
       "      <td>4</td>\n",
       "      <td>0</td>\n",
       "      <td>5</td>\n",
       "    </tr>\n",
       "    <tr>\n",
       "      <th>1</th>\n",
       "      <td>49</td>\n",
       "      <td>No</td>\n",
       "      <td>Travel_Frequently</td>\n",
       "      <td>Research &amp; Development</td>\n",
       "      <td>8</td>\n",
       "      <td>1</td>\n",
       "      <td>Life Sciences</td>\n",
       "      <td>3</td>\n",
       "      <td>61</td>\n",
       "      <td>2</td>\n",
       "      <td>...</td>\n",
       "      <td>4</td>\n",
       "      <td>4</td>\n",
       "      <td>1</td>\n",
       "      <td>10</td>\n",
       "      <td>3</td>\n",
       "      <td>3</td>\n",
       "      <td>10</td>\n",
       "      <td>7</td>\n",
       "      <td>1</td>\n",
       "      <td>7</td>\n",
       "    </tr>\n",
       "    <tr>\n",
       "      <th>2</th>\n",
       "      <td>37</td>\n",
       "      <td>Yes</td>\n",
       "      <td>Travel_Rarely</td>\n",
       "      <td>Research &amp; Development</td>\n",
       "      <td>2</td>\n",
       "      <td>2</td>\n",
       "      <td>Other</td>\n",
       "      <td>4</td>\n",
       "      <td>92</td>\n",
       "      <td>2</td>\n",
       "      <td>...</td>\n",
       "      <td>3</td>\n",
       "      <td>2</td>\n",
       "      <td>0</td>\n",
       "      <td>7</td>\n",
       "      <td>3</td>\n",
       "      <td>3</td>\n",
       "      <td>0</td>\n",
       "      <td>0</td>\n",
       "      <td>0</td>\n",
       "      <td>0</td>\n",
       "    </tr>\n",
       "    <tr>\n",
       "      <th>3</th>\n",
       "      <td>33</td>\n",
       "      <td>No</td>\n",
       "      <td>Travel_Frequently</td>\n",
       "      <td>Research &amp; Development</td>\n",
       "      <td>3</td>\n",
       "      <td>4</td>\n",
       "      <td>Life Sciences</td>\n",
       "      <td>4</td>\n",
       "      <td>56</td>\n",
       "      <td>3</td>\n",
       "      <td>...</td>\n",
       "      <td>3</td>\n",
       "      <td>3</td>\n",
       "      <td>0</td>\n",
       "      <td>8</td>\n",
       "      <td>3</td>\n",
       "      <td>3</td>\n",
       "      <td>8</td>\n",
       "      <td>7</td>\n",
       "      <td>3</td>\n",
       "      <td>0</td>\n",
       "    </tr>\n",
       "    <tr>\n",
       "      <th>4</th>\n",
       "      <td>27</td>\n",
       "      <td>No</td>\n",
       "      <td>Travel_Rarely</td>\n",
       "      <td>Research &amp; Development</td>\n",
       "      <td>2</td>\n",
       "      <td>1</td>\n",
       "      <td>Medical</td>\n",
       "      <td>1</td>\n",
       "      <td>40</td>\n",
       "      <td>3</td>\n",
       "      <td>...</td>\n",
       "      <td>3</td>\n",
       "      <td>4</td>\n",
       "      <td>1</td>\n",
       "      <td>6</td>\n",
       "      <td>3</td>\n",
       "      <td>3</td>\n",
       "      <td>2</td>\n",
       "      <td>2</td>\n",
       "      <td>2</td>\n",
       "      <td>2</td>\n",
       "    </tr>\n",
       "  </tbody>\n",
       "</table>\n",
       "<p>5 rows × 27 columns</p>\n",
       "</div>"
      ],
      "text/plain": [
       "   Age Attrition     BusinessTravel              Department  DistanceFromHome  \\\n",
       "0   41       Yes      Travel_Rarely                   Sales                 1   \n",
       "1   49        No  Travel_Frequently  Research & Development                 8   \n",
       "2   37       Yes      Travel_Rarely  Research & Development                 2   \n",
       "3   33        No  Travel_Frequently  Research & Development                 3   \n",
       "4   27        No      Travel_Rarely  Research & Development                 2   \n",
       "\n",
       "   Education EducationField  EnvironmentSatisfaction  HourlyRate  \\\n",
       "0          2  Life Sciences                        2          94   \n",
       "1          1  Life Sciences                        3          61   \n",
       "2          2          Other                        4          92   \n",
       "3          4  Life Sciences                        4          56   \n",
       "4          1        Medical                        1          40   \n",
       "\n",
       "   JobInvolvement  ...  PerformanceRating RelationshipSatisfaction  \\\n",
       "0               3  ...                  3                        1   \n",
       "1               2  ...                  4                        4   \n",
       "2               2  ...                  3                        2   \n",
       "3               3  ...                  3                        3   \n",
       "4               3  ...                  3                        4   \n",
       "\n",
       "   StockOptionLevel TotalWorkingYears  TrainingTimesLastYear WorkLifeBalance  \\\n",
       "0                 0                 8                      0               1   \n",
       "1                 1                10                      3               3   \n",
       "2                 0                 7                      3               3   \n",
       "3                 0                 8                      3               3   \n",
       "4                 1                 6                      3               3   \n",
       "\n",
       "   YearsAtCompany  YearsInCurrentRole  YearsSinceLastPromotion  \\\n",
       "0               6                   4                        0   \n",
       "1              10                   7                        1   \n",
       "2               0                   0                        0   \n",
       "3               8                   7                        3   \n",
       "4               2                   2                        2   \n",
       "\n",
       "   YearsWithCurrManager  \n",
       "0                     5  \n",
       "1                     7  \n",
       "2                     0  \n",
       "3                     0  \n",
       "4                     2  \n",
       "\n",
       "[5 rows x 27 columns]"
      ]
     },
     "execution_count": 1,
     "metadata": {},
     "output_type": "execute_result"
    }
   ],
   "source": [
    "# Import our dependencies\n",
    "from sklearn.model_selection import train_test_split\n",
    "from sklearn.preprocessing import StandardScaler\n",
    "import pandas as pd\n",
    "import numpy as np\n",
    "from tensorflow.keras.models import Model\n",
    "from tensorflow.keras import layers\n",
    "\n",
    "#  Import and read the attrition data\n",
    "attrition_df = pd.read_csv('https://static.bc-edx.com/ai/ail-v-1-0/m19/lms/datasets/attrition.csv')\n",
    "attrition_df.head()"
   ]
  },
  {
   "cell_type": "code",
   "execution_count": 2,
   "metadata": {
    "colab": {
     "base_uri": "https://localhost:8080/"
    },
    "id": "g22aQSY4Gc3Q",
    "outputId": "1f5c13c1-b981-4e40-a7ed-dd3fe6f1b81e"
   },
   "outputs": [
    {
     "data": {
      "text/plain": [
       "Age                         43\n",
       "Attrition                    2\n",
       "BusinessTravel               3\n",
       "Department                   3\n",
       "DistanceFromHome            29\n",
       "Education                    5\n",
       "EducationField               6\n",
       "EnvironmentSatisfaction      4\n",
       "HourlyRate                  71\n",
       "JobInvolvement               4\n",
       "JobLevel                     5\n",
       "JobRole                      9\n",
       "JobSatisfaction              4\n",
       "MaritalStatus                3\n",
       "NumCompaniesWorked          10\n",
       "OverTime                     2\n",
       "PercentSalaryHike           15\n",
       "PerformanceRating            2\n",
       "RelationshipSatisfaction     4\n",
       "StockOptionLevel             4\n",
       "TotalWorkingYears           40\n",
       "TrainingTimesLastYear        7\n",
       "WorkLifeBalance              4\n",
       "YearsAtCompany              37\n",
       "YearsInCurrentRole          19\n",
       "YearsSinceLastPromotion     16\n",
       "YearsWithCurrManager        18\n",
       "dtype: int64"
      ]
     },
     "execution_count": 2,
     "metadata": {},
     "output_type": "execute_result"
    }
   ],
   "source": [
    "# Determine the number of unique values in each column.\n",
    "attrition_df.nunique()"
   ]
  },
  {
   "cell_type": "code",
   "execution_count": 3,
   "metadata": {
    "id": "50vMgBEnJbfM"
   },
   "outputs": [],
   "source": [
    "# Create y_df with the Attrition and Department columns\n",
    "y_df = attrition_df[['Attrition', 'Department']]"
   ]
  },
  {
   "cell_type": "code",
   "execution_count": 4,
   "metadata": {
    "colab": {
     "base_uri": "https://localhost:8080/"
    },
    "id": "Virka0zLGc3R",
    "outputId": "dd5aee3a-9458-4ba6-e857-1b234de40915"
   },
   "outputs": [
    {
     "data": {
      "text/plain": [
       "Education                   int64\n",
       "Age                         int64\n",
       "DistanceFromHome            int64\n",
       "JobSatisfaction             int64\n",
       "OverTime                   object\n",
       "StockOptionLevel            int64\n",
       "WorkLifeBalance             int64\n",
       "YearsAtCompany              int64\n",
       "YearsSinceLastPromotion     int64\n",
       "NumCompaniesWorked          int64\n",
       "dtype: object"
      ]
     },
     "execution_count": 4,
     "metadata": {},
     "output_type": "execute_result"
    }
   ],
   "source": [
    "# Create a list of at least 10 column names to use as X data\n",
    "X_data = attrition_df[['Education', 'Age', 'DistanceFromHome', 'JobSatisfaction', 'OverTime', 'StockOptionLevel', \n",
    "                       'WorkLifeBalance', 'YearsAtCompany', 'YearsSinceLastPromotion', 'NumCompaniesWorked']]\n",
    "\n",
    "# Create X_df using your selected columns\n",
    "X_df = X_data\n",
    "\n",
    "# Show the data types for X_df\n",
    "X_df.dtypes\n"
   ]
  },
  {
   "cell_type": "code",
   "execution_count": 5,
   "metadata": {
    "id": "KaJfdOGUMHMR"
   },
   "outputs": [],
   "source": [
    "# Split the data into training and testing sets\n",
    "from sklearn.model_selection import train_test_split\n",
    "\n",
    "X_train, X_test, y_train, y_test = train_test_split(X_df, y_df, random_state=42)"
   ]
  },
  {
   "cell_type": "code",
   "execution_count": 6,
   "metadata": {
    "colab": {
     "base_uri": "https://localhost:8080/"
    },
    "id": "NYubUJqiLCSp",
    "outputId": "53f31721-571c-4c94-d13e-25a715749593"
   },
   "outputs": [
    {
     "name": "stdout",
     "output_type": "stream",
     "text": [
      "OverTime\n",
      "0    780\n",
      "1    322\n",
      "Name: count, dtype: int64\n",
      "OverTime\n",
      "0    274\n",
      "1     94\n",
      "Name: count, dtype: int64\n"
     ]
    }
   ],
   "source": [
    "# Convert your X data to numeric data types however you see fit\n",
    "# Add new code cells as necessary\n",
    "from sklearn.preprocessing import LabelEncoder\n",
    "\n",
    "# Initialize the LabelEncoder\n",
    "label_encoder = LabelEncoder()\n",
    "\n",
    "# Step 3: Apply LabelEncoder to the binary 'OverTime' column in training set\n",
    "X_train['OverTime'] = label_encoder.fit_transform(X_train['OverTime'])\n",
    "\n",
    "# Step 4: Transform the 'OverTime' column in the testing set\n",
    "X_test['OverTime'] = label_encoder.transform(X_test['OverTime'])  # Use transform here\n",
    "\n",
    "# Verify the value counts after encoding\n",
    "print(X_train['OverTime'].value_counts())\n",
    "print(X_test['OverTime'].value_counts())"
   ]
  },
  {
   "cell_type": "code",
   "execution_count": 7,
   "metadata": {},
   "outputs": [
    {
     "data": {
      "text/plain": [
       "Education                  int64\n",
       "Age                        int64\n",
       "DistanceFromHome           int64\n",
       "JobSatisfaction            int64\n",
       "OverTime                   int64\n",
       "StockOptionLevel           int64\n",
       "WorkLifeBalance            int64\n",
       "YearsAtCompany             int64\n",
       "YearsSinceLastPromotion    int64\n",
       "NumCompaniesWorked         int64\n",
       "dtype: object"
      ]
     },
     "execution_count": 7,
     "metadata": {},
     "output_type": "execute_result"
    }
   ],
   "source": [
    "X_train.dtypes"
   ]
  },
  {
   "cell_type": "code",
   "execution_count": 9,
   "metadata": {
    "id": "EWA-aIA5Gc3T"
   },
   "outputs": [],
   "source": [
    "# Create a StandardScaler\n",
    "scaler = StandardScaler()\n",
    "\n",
    "# Fit the StandardScaler to the training data\n",
    "scaler.fit(X_train)\n",
    "\n",
    "# Scale the training and testing data\n",
    "X_train_scaled = scaler.transform(X_train)\n",
    "X_test_scaled = scaler.transform(X_test) "
   ]
  },
  {
   "cell_type": "code",
   "execution_count": 10,
   "metadata": {
    "colab": {
     "base_uri": "https://localhost:8080/"
    },
    "id": "-z0Mky8vQSz4",
    "outputId": "debefc85-c20b-48f5-f4d9-91eadd65d36a"
   },
   "outputs": [
    {
     "data": {
      "text/plain": [
       "array([[0., 1., 0.],\n",
       "       [0., 1., 0.],\n",
       "       [0., 1., 0.],\n",
       "       ...,\n",
       "       [0., 1., 0.],\n",
       "       [0., 0., 1.],\n",
       "       [0., 1., 0.]])"
      ]
     },
     "execution_count": 10,
     "metadata": {},
     "output_type": "execute_result"
    }
   ],
   "source": [
    "from sklearn.preprocessing import OneHotEncoder\n",
    "\n",
    "# Initialize the OneHotEncoder\n",
    "ohe = OneHotEncoder()\n",
    "\n",
    "# Fit the encoder to the training data\n",
    "ohe.fit(y_train[['Department']])  \n",
    "\n",
    "# Apply the encoder to the training data and convert to array\n",
    "y_train_department_encoded = ohe.transform(y_train[['Department']]).toarray()\n",
    "\n",
    "# Apply the encoder to the testing data and convert to array\n",
    "y_test_department_encoded = ohe.transform(y_test[['Department']]).toarray()\n",
    "\n",
    "print(y_train_department_encoded)"
   ]
  },
  {
   "cell_type": "code",
   "execution_count": 17,
   "metadata": {
    "colab": {
     "base_uri": "https://localhost:8080/"
    },
    "id": "-G4DSpvFRrk4",
    "outputId": "9842e948-8a55-4b80-8fac-f96714e85589"
   },
   "outputs": [
    {
     "name": "stdout",
     "output_type": "stream",
     "text": [
      "[[1. 0.]\n",
      " [1. 0.]\n",
      " [1. 0.]\n",
      " ...\n",
      " [0. 1.]\n",
      " [1. 0.]\n",
      " [1. 0.]]\n"
     ]
    }
   ],
   "source": [
    "# Create a OneHotEncoder for the Attrition column\n",
    "ohe_attrition = OneHotEncoder()\n",
    "\n",
    "# Fit the encoder to the Attrition column in the original y_train DataFrame\n",
    "ohe_attrition.fit(y_train[['Attrition']])  # Pass Attrition as a DataFrame\n",
    "\n",
    "# Apply the encoder to the training and testing data for Attrition\n",
    "y_train_attrition_encoded = ohe_attrition.transform(y_train[['Attrition']]).toarray()\n",
    "y_test_attrition_encoded = ohe_attrition.transform(y_test[['Attrition']]).toarray()\n",
    "\n",
    "# Verify the encoded arrays\n",
    "print(y_train_attrition_encoded)"
   ]
  },
  {
   "cell_type": "markdown",
   "metadata": {
    "id": "ykNmu_WWGc3T"
   },
   "source": [
    "## Create, Compile, and Train the Model"
   ]
  },
  {
   "cell_type": "code",
   "execution_count": 18,
   "metadata": {
    "id": "WUptZqmSGc3T"
   },
   "outputs": [],
   "source": [
    "# Find the number of columns in the X training data\n",
    "input_dim = X_train_scaled.shape[1]\n",
    "\n",
    "# Create the input layer\n",
    "input_layer = layers.Input(shape=(input_dim,))\n",
    "\n",
    "# Create at least two shared layers\n",
    "shared_layer_1 = layers.Dense(64, activation='relu')(input_layer)\n",
    "shared_layer_2 = layers.Dense(32, activation='relu')(shared_layer_1)"
   ]
  },
  {
   "cell_type": "code",
   "execution_count": 19,
   "metadata": {
    "id": "JukjTm2yTEqd"
   },
   "outputs": [],
   "source": [
    "# Create a branch for Department\n",
    "# with a hidden layer and an output layer\n",
    "department_hidden_layer = layers.Dense(16, activation='relu')(shared_layer_2)\n",
    "# Create the hidden layer\n",
    "department_output = layers.Dense(3, activation='softmax', name='department_output')(department_hidden_layer)\n",
    "\n",
    "# Create the output layer\n",
    "\n"
   ]
  },
  {
   "cell_type": "code",
   "execution_count": 20,
   "metadata": {
    "id": "9OqhUiOJUBkR"
   },
   "outputs": [],
   "source": [
    "# Create a branch for Attrition\n",
    "# with a hidden layer and an output layer\n",
    "\n",
    "# Create the hidden layer\n",
    "attrition_hidden_layer = layers.Dense(16, activation='relu')(shared_layer_2)\n",
    "\n",
    "# Create the output layer\n",
    "attrition_output = layers.Dense(2, activation='softmax', name='attrition_output')(attrition_hidden_layer)\n"
   ]
  },
  {
   "cell_type": "code",
   "execution_count": 24,
   "metadata": {
    "colab": {
     "base_uri": "https://localhost:8080/"
    },
    "id": "twmuejdxGc3T",
    "outputId": "25096308-b68b-42e4-e4ea-ae82e97c435a"
   },
   "outputs": [
    {
     "data": {
      "text/html": [
       "<pre style=\"white-space:pre;overflow-x:auto;line-height:normal;font-family:Menlo,'DejaVu Sans Mono',consolas,'Courier New',monospace\"><span style=\"font-weight: bold\">Model: \"functional_3\"</span>\n",
       "</pre>\n"
      ],
      "text/plain": [
       "\u001b[1mModel: \"functional_3\"\u001b[0m\n"
      ]
     },
     "metadata": {},
     "output_type": "display_data"
    },
    {
     "data": {
      "text/html": [
       "<pre style=\"white-space:pre;overflow-x:auto;line-height:normal;font-family:Menlo,'DejaVu Sans Mono',consolas,'Courier New',monospace\">┏━━━━━━━━━━━━━━━━━━━━━┳━━━━━━━━━━━━━━━━━━━┳━━━━━━━━━━━━┳━━━━━━━━━━━━━━━━━━━┓\n",
       "┃<span style=\"font-weight: bold\"> Layer (type)        </span>┃<span style=\"font-weight: bold\"> Output Shape      </span>┃<span style=\"font-weight: bold\">    Param # </span>┃<span style=\"font-weight: bold\"> Connected to      </span>┃\n",
       "┡━━━━━━━━━━━━━━━━━━━━━╇━━━━━━━━━━━━━━━━━━━╇━━━━━━━━━━━━╇━━━━━━━━━━━━━━━━━━━┩\n",
       "│ input_layer         │ (<span style=\"color: #00d7ff; text-decoration-color: #00d7ff\">None</span>, <span style=\"color: #00af00; text-decoration-color: #00af00\">10</span>)        │          <span style=\"color: #00af00; text-decoration-color: #00af00\">0</span> │ -                 │\n",
       "│ (<span style=\"color: #0087ff; text-decoration-color: #0087ff\">InputLayer</span>)        │                   │            │                   │\n",
       "├─────────────────────┼───────────────────┼────────────┼───────────────────┤\n",
       "│ dense (<span style=\"color: #0087ff; text-decoration-color: #0087ff\">Dense</span>)       │ (<span style=\"color: #00d7ff; text-decoration-color: #00d7ff\">None</span>, <span style=\"color: #00af00; text-decoration-color: #00af00\">64</span>)        │        <span style=\"color: #00af00; text-decoration-color: #00af00\">704</span> │ input_layer[<span style=\"color: #00af00; text-decoration-color: #00af00\">0</span>][<span style=\"color: #00af00; text-decoration-color: #00af00\">0</span>] │\n",
       "├─────────────────────┼───────────────────┼────────────┼───────────────────┤\n",
       "│ dense_1 (<span style=\"color: #0087ff; text-decoration-color: #0087ff\">Dense</span>)     │ (<span style=\"color: #00d7ff; text-decoration-color: #00d7ff\">None</span>, <span style=\"color: #00af00; text-decoration-color: #00af00\">32</span>)        │      <span style=\"color: #00af00; text-decoration-color: #00af00\">2,080</span> │ dense[<span style=\"color: #00af00; text-decoration-color: #00af00\">0</span>][<span style=\"color: #00af00; text-decoration-color: #00af00\">0</span>]       │\n",
       "├─────────────────────┼───────────────────┼────────────┼───────────────────┤\n",
       "│ dense_3 (<span style=\"color: #0087ff; text-decoration-color: #0087ff\">Dense</span>)     │ (<span style=\"color: #00d7ff; text-decoration-color: #00d7ff\">None</span>, <span style=\"color: #00af00; text-decoration-color: #00af00\">16</span>)        │        <span style=\"color: #00af00; text-decoration-color: #00af00\">528</span> │ dense_1[<span style=\"color: #00af00; text-decoration-color: #00af00\">0</span>][<span style=\"color: #00af00; text-decoration-color: #00af00\">0</span>]     │\n",
       "├─────────────────────┼───────────────────┼────────────┼───────────────────┤\n",
       "│ dense_2 (<span style=\"color: #0087ff; text-decoration-color: #0087ff\">Dense</span>)     │ (<span style=\"color: #00d7ff; text-decoration-color: #00d7ff\">None</span>, <span style=\"color: #00af00; text-decoration-color: #00af00\">16</span>)        │        <span style=\"color: #00af00; text-decoration-color: #00af00\">528</span> │ dense_1[<span style=\"color: #00af00; text-decoration-color: #00af00\">0</span>][<span style=\"color: #00af00; text-decoration-color: #00af00\">0</span>]     │\n",
       "├─────────────────────┼───────────────────┼────────────┼───────────────────┤\n",
       "│ attrition_output    │ (<span style=\"color: #00d7ff; text-decoration-color: #00d7ff\">None</span>, <span style=\"color: #00af00; text-decoration-color: #00af00\">2</span>)         │         <span style=\"color: #00af00; text-decoration-color: #00af00\">34</span> │ dense_3[<span style=\"color: #00af00; text-decoration-color: #00af00\">0</span>][<span style=\"color: #00af00; text-decoration-color: #00af00\">0</span>]     │\n",
       "│ (<span style=\"color: #0087ff; text-decoration-color: #0087ff\">Dense</span>)             │                   │            │                   │\n",
       "├─────────────────────┼───────────────────┼────────────┼───────────────────┤\n",
       "│ department_output   │ (<span style=\"color: #00d7ff; text-decoration-color: #00d7ff\">None</span>, <span style=\"color: #00af00; text-decoration-color: #00af00\">3</span>)         │         <span style=\"color: #00af00; text-decoration-color: #00af00\">51</span> │ dense_2[<span style=\"color: #00af00; text-decoration-color: #00af00\">0</span>][<span style=\"color: #00af00; text-decoration-color: #00af00\">0</span>]     │\n",
       "│ (<span style=\"color: #0087ff; text-decoration-color: #0087ff\">Dense</span>)             │                   │            │                   │\n",
       "└─────────────────────┴───────────────────┴────────────┴───────────────────┘\n",
       "</pre>\n"
      ],
      "text/plain": [
       "┏━━━━━━━━━━━━━━━━━━━━━┳━━━━━━━━━━━━━━━━━━━┳━━━━━━━━━━━━┳━━━━━━━━━━━━━━━━━━━┓\n",
       "┃\u001b[1m \u001b[0m\u001b[1mLayer (type)       \u001b[0m\u001b[1m \u001b[0m┃\u001b[1m \u001b[0m\u001b[1mOutput Shape     \u001b[0m\u001b[1m \u001b[0m┃\u001b[1m \u001b[0m\u001b[1m   Param #\u001b[0m\u001b[1m \u001b[0m┃\u001b[1m \u001b[0m\u001b[1mConnected to     \u001b[0m\u001b[1m \u001b[0m┃\n",
       "┡━━━━━━━━━━━━━━━━━━━━━╇━━━━━━━━━━━━━━━━━━━╇━━━━━━━━━━━━╇━━━━━━━━━━━━━━━━━━━┩\n",
       "│ input_layer         │ (\u001b[38;5;45mNone\u001b[0m, \u001b[38;5;34m10\u001b[0m)        │          \u001b[38;5;34m0\u001b[0m │ -                 │\n",
       "│ (\u001b[38;5;33mInputLayer\u001b[0m)        │                   │            │                   │\n",
       "├─────────────────────┼───────────────────┼────────────┼───────────────────┤\n",
       "│ dense (\u001b[38;5;33mDense\u001b[0m)       │ (\u001b[38;5;45mNone\u001b[0m, \u001b[38;5;34m64\u001b[0m)        │        \u001b[38;5;34m704\u001b[0m │ input_layer[\u001b[38;5;34m0\u001b[0m][\u001b[38;5;34m0\u001b[0m] │\n",
       "├─────────────────────┼───────────────────┼────────────┼───────────────────┤\n",
       "│ dense_1 (\u001b[38;5;33mDense\u001b[0m)     │ (\u001b[38;5;45mNone\u001b[0m, \u001b[38;5;34m32\u001b[0m)        │      \u001b[38;5;34m2,080\u001b[0m │ dense[\u001b[38;5;34m0\u001b[0m][\u001b[38;5;34m0\u001b[0m]       │\n",
       "├─────────────────────┼───────────────────┼────────────┼───────────────────┤\n",
       "│ dense_3 (\u001b[38;5;33mDense\u001b[0m)     │ (\u001b[38;5;45mNone\u001b[0m, \u001b[38;5;34m16\u001b[0m)        │        \u001b[38;5;34m528\u001b[0m │ dense_1[\u001b[38;5;34m0\u001b[0m][\u001b[38;5;34m0\u001b[0m]     │\n",
       "├─────────────────────┼───────────────────┼────────────┼───────────────────┤\n",
       "│ dense_2 (\u001b[38;5;33mDense\u001b[0m)     │ (\u001b[38;5;45mNone\u001b[0m, \u001b[38;5;34m16\u001b[0m)        │        \u001b[38;5;34m528\u001b[0m │ dense_1[\u001b[38;5;34m0\u001b[0m][\u001b[38;5;34m0\u001b[0m]     │\n",
       "├─────────────────────┼───────────────────┼────────────┼───────────────────┤\n",
       "│ attrition_output    │ (\u001b[38;5;45mNone\u001b[0m, \u001b[38;5;34m2\u001b[0m)         │         \u001b[38;5;34m34\u001b[0m │ dense_3[\u001b[38;5;34m0\u001b[0m][\u001b[38;5;34m0\u001b[0m]     │\n",
       "│ (\u001b[38;5;33mDense\u001b[0m)             │                   │            │                   │\n",
       "├─────────────────────┼───────────────────┼────────────┼───────────────────┤\n",
       "│ department_output   │ (\u001b[38;5;45mNone\u001b[0m, \u001b[38;5;34m3\u001b[0m)         │         \u001b[38;5;34m51\u001b[0m │ dense_2[\u001b[38;5;34m0\u001b[0m][\u001b[38;5;34m0\u001b[0m]     │\n",
       "│ (\u001b[38;5;33mDense\u001b[0m)             │                   │            │                   │\n",
       "└─────────────────────┴───────────────────┴────────────┴───────────────────┘\n"
      ]
     },
     "metadata": {},
     "output_type": "display_data"
    },
    {
     "data": {
      "text/html": [
       "<pre style=\"white-space:pre;overflow-x:auto;line-height:normal;font-family:Menlo,'DejaVu Sans Mono',consolas,'Courier New',monospace\"><span style=\"font-weight: bold\"> Total params: </span><span style=\"color: #00af00; text-decoration-color: #00af00\">3,925</span> (15.33 KB)\n",
       "</pre>\n"
      ],
      "text/plain": [
       "\u001b[1m Total params: \u001b[0m\u001b[38;5;34m3,925\u001b[0m (15.33 KB)\n"
      ]
     },
     "metadata": {},
     "output_type": "display_data"
    },
    {
     "data": {
      "text/html": [
       "<pre style=\"white-space:pre;overflow-x:auto;line-height:normal;font-family:Menlo,'DejaVu Sans Mono',consolas,'Courier New',monospace\"><span style=\"font-weight: bold\"> Trainable params: </span><span style=\"color: #00af00; text-decoration-color: #00af00\">3,925</span> (15.33 KB)\n",
       "</pre>\n"
      ],
      "text/plain": [
       "\u001b[1m Trainable params: \u001b[0m\u001b[38;5;34m3,925\u001b[0m (15.33 KB)\n"
      ]
     },
     "metadata": {},
     "output_type": "display_data"
    },
    {
     "data": {
      "text/html": [
       "<pre style=\"white-space:pre;overflow-x:auto;line-height:normal;font-family:Menlo,'DejaVu Sans Mono',consolas,'Courier New',monospace\"><span style=\"font-weight: bold\"> Non-trainable params: </span><span style=\"color: #00af00; text-decoration-color: #00af00\">0</span> (0.00 B)\n",
       "</pre>\n"
      ],
      "text/plain": [
       "\u001b[1m Non-trainable params: \u001b[0m\u001b[38;5;34m0\u001b[0m (0.00 B)\n"
      ]
     },
     "metadata": {},
     "output_type": "display_data"
    }
   ],
   "source": [
    "from tensorflow.keras.optimizers import Adam\n",
    "# Create the model\n",
    "model = Model(inputs=input_layer, outputs=[attrition_output, department_output])\n",
    "\n",
    "\n",
    "# Compile the model\n",
    "model.compile(optimizer=Adam(),\n",
    "              loss={'attrition_output': 'categorical_crossentropy',\n",
    "                    'department_output': 'categorical_crossentropy'},\n",
    "              metrics={'attrition_output': 'accuracy',\n",
    "                       'department_output': 'accuracy'})\n",
    "\n",
    "# Summarize the model\n",
    "model.summary()"
   ]
  },
  {
   "cell_type": "code",
   "execution_count": 25,
   "metadata": {
    "colab": {
     "base_uri": "https://localhost:8080/"
    },
    "id": "c8oGy0dpGc3U",
    "outputId": "cc667d43-28cf-42d4-d719-c2bc02888d30"
   },
   "outputs": [
    {
     "name": "stdout",
     "output_type": "stream",
     "text": [
      "Epoch 1/50\n",
      "\u001b[1m35/35\u001b[0m \u001b[32m━━━━━━━━━━━━━━━━━━━━\u001b[0m\u001b[37m\u001b[0m \u001b[1m1s\u001b[0m 3ms/step - attrition_output_accuracy: 0.5011 - attrition_output_loss: 0.7333 - department_output_accuracy: 0.4493 - department_output_loss: 1.0343 - loss: 1.7680 - val_attrition_output_accuracy: 0.8696 - val_attrition_output_loss: 0.4272 - val_department_output_accuracy: 0.6495 - val_department_output_loss: 0.8452 - val_loss: 1.2642\n",
      "Epoch 2/50\n",
      "\u001b[1m35/35\u001b[0m \u001b[32m━━━━━━━━━━━━━━━━━━━━\u001b[0m\u001b[37m\u001b[0m \u001b[1m0s\u001b[0m 576us/step - attrition_output_accuracy: 0.8278 - attrition_output_loss: 0.4802 - department_output_accuracy: 0.6641 - department_output_loss: 0.8043 - loss: 1.2847 - val_attrition_output_accuracy: 0.8696 - val_attrition_output_loss: 0.3828 - val_department_output_accuracy: 0.6522 - val_department_output_loss: 0.8107 - val_loss: 1.1851\n",
      "Epoch 3/50\n",
      "\u001b[1m35/35\u001b[0m \u001b[32m━━━━━━━━━━━━━━━━━━━━\u001b[0m\u001b[37m\u001b[0m \u001b[1m0s\u001b[0m 632us/step - attrition_output_accuracy: 0.8299 - attrition_output_loss: 0.4361 - department_output_accuracy: 0.6369 - department_output_loss: 0.7863 - loss: 1.2222 - val_attrition_output_accuracy: 0.8832 - val_attrition_output_loss: 0.3550 - val_department_output_accuracy: 0.6522 - val_department_output_loss: 0.8069 - val_loss: 1.1553\n",
      "Epoch 4/50\n",
      "\u001b[1m35/35\u001b[0m \u001b[32m━━━━━━━━━━━━━━━━━━━━\u001b[0m\u001b[37m\u001b[0m \u001b[1m0s\u001b[0m 592us/step - attrition_output_accuracy: 0.8494 - attrition_output_loss: 0.3868 - department_output_accuracy: 0.6772 - department_output_loss: 0.7598 - loss: 1.1467 - val_attrition_output_accuracy: 0.8777 - val_attrition_output_loss: 0.3469 - val_department_output_accuracy: 0.6495 - val_department_output_loss: 0.8033 - val_loss: 1.1453\n",
      "Epoch 5/50\n",
      "\u001b[1m35/35\u001b[0m \u001b[32m━━━━━━━━━━━━━━━━━━━━\u001b[0m\u001b[37m\u001b[0m \u001b[1m0s\u001b[0m 621us/step - attrition_output_accuracy: 0.8554 - attrition_output_loss: 0.3597 - department_output_accuracy: 0.6437 - department_output_loss: 0.7796 - loss: 1.1394 - val_attrition_output_accuracy: 0.8668 - val_attrition_output_loss: 0.3486 - val_department_output_accuracy: 0.6522 - val_department_output_loss: 0.8038 - val_loss: 1.1470\n",
      "Epoch 6/50\n",
      "\u001b[1m35/35\u001b[0m \u001b[32m━━━━━━━━━━━━━━━━━━━━\u001b[0m\u001b[37m\u001b[0m \u001b[1m0s\u001b[0m 624us/step - attrition_output_accuracy: 0.8325 - attrition_output_loss: 0.3981 - department_output_accuracy: 0.6748 - department_output_loss: 0.7489 - loss: 1.1474 - val_attrition_output_accuracy: 0.8913 - val_attrition_output_loss: 0.3403 - val_department_output_accuracy: 0.6522 - val_department_output_loss: 0.8046 - val_loss: 1.1391\n",
      "Epoch 7/50\n",
      "\u001b[1m35/35\u001b[0m \u001b[32m━━━━━━━━━━━━━━━━━━━━\u001b[0m\u001b[37m\u001b[0m \u001b[1m0s\u001b[0m 592us/step - attrition_output_accuracy: 0.8626 - attrition_output_loss: 0.3498 - department_output_accuracy: 0.6446 - department_output_loss: 0.7557 - loss: 1.1057 - val_attrition_output_accuracy: 0.8641 - val_attrition_output_loss: 0.3477 - val_department_output_accuracy: 0.6522 - val_department_output_loss: 0.8055 - val_loss: 1.1476\n",
      "Epoch 8/50\n",
      "\u001b[1m35/35\u001b[0m \u001b[32m━━━━━━━━━━━━━━━━━━━━\u001b[0m\u001b[37m\u001b[0m \u001b[1m0s\u001b[0m 600us/step - attrition_output_accuracy: 0.8684 - attrition_output_loss: 0.3277 - department_output_accuracy: 0.6295 - department_output_loss: 0.7602 - loss: 1.0879 - val_attrition_output_accuracy: 0.8696 - val_attrition_output_loss: 0.3459 - val_department_output_accuracy: 0.6522 - val_department_output_loss: 0.8061 - val_loss: 1.1462\n",
      "Epoch 9/50\n",
      "\u001b[1m35/35\u001b[0m \u001b[32m━━━━━━━━━━━━━━━━━━━━\u001b[0m\u001b[37m\u001b[0m \u001b[1m0s\u001b[0m 614us/step - attrition_output_accuracy: 0.8728 - attrition_output_loss: 0.3054 - department_output_accuracy: 0.6345 - department_output_loss: 0.7789 - loss: 1.0845 - val_attrition_output_accuracy: 0.8777 - val_attrition_output_loss: 0.3433 - val_department_output_accuracy: 0.6522 - val_department_output_loss: 0.8074 - val_loss: 1.1455\n",
      "Epoch 10/50\n",
      "\u001b[1m35/35\u001b[0m \u001b[32m━━━━━━━━━━━━━━━━━━━━\u001b[0m\u001b[37m\u001b[0m \u001b[1m0s\u001b[0m 636us/step - attrition_output_accuracy: 0.8567 - attrition_output_loss: 0.3373 - department_output_accuracy: 0.6806 - department_output_loss: 0.7140 - loss: 1.0514 - val_attrition_output_accuracy: 0.8723 - val_attrition_output_loss: 0.3482 - val_department_output_accuracy: 0.6522 - val_department_output_loss: 0.8126 - val_loss: 1.1546\n",
      "Epoch 11/50\n",
      "\u001b[1m35/35\u001b[0m \u001b[32m━━━━━━━━━━━━━━━━━━━━\u001b[0m\u001b[37m\u001b[0m \u001b[1m0s\u001b[0m 585us/step - attrition_output_accuracy: 0.8753 - attrition_output_loss: 0.3222 - department_output_accuracy: 0.6485 - department_output_loss: 0.7510 - loss: 1.0732 - val_attrition_output_accuracy: 0.8804 - val_attrition_output_loss: 0.3430 - val_department_output_accuracy: 0.6495 - val_department_output_loss: 0.8085 - val_loss: 1.1451\n",
      "Epoch 12/50\n",
      "\u001b[1m35/35\u001b[0m \u001b[32m━━━━━━━━━━━━━━━━━━━━\u001b[0m\u001b[37m\u001b[0m \u001b[1m0s\u001b[0m 601us/step - attrition_output_accuracy: 0.8557 - attrition_output_loss: 0.3422 - department_output_accuracy: 0.6845 - department_output_loss: 0.7000 - loss: 1.0420 - val_attrition_output_accuracy: 0.8668 - val_attrition_output_loss: 0.3551 - val_department_output_accuracy: 0.6549 - val_department_output_loss: 0.8110 - val_loss: 1.1597\n",
      "Epoch 13/50\n",
      "\u001b[1m35/35\u001b[0m \u001b[32m━━━━━━━━━━━━━━━━━━━━\u001b[0m\u001b[37m\u001b[0m \u001b[1m0s\u001b[0m 621us/step - attrition_output_accuracy: 0.8538 - attrition_output_loss: 0.3373 - department_output_accuracy: 0.6659 - department_output_loss: 0.7292 - loss: 1.0662 - val_attrition_output_accuracy: 0.8750 - val_attrition_output_loss: 0.3476 - val_department_output_accuracy: 0.6522 - val_department_output_loss: 0.8121 - val_loss: 1.1530\n",
      "Epoch 14/50\n",
      "\u001b[1m35/35\u001b[0m \u001b[32m━━━━━━━━━━━━━━━━━━━━\u001b[0m\u001b[37m\u001b[0m \u001b[1m0s\u001b[0m 632us/step - attrition_output_accuracy: 0.8861 - attrition_output_loss: 0.2895 - department_output_accuracy: 0.6899 - department_output_loss: 0.6839 - loss: 0.9730 - val_attrition_output_accuracy: 0.8777 - val_attrition_output_loss: 0.3475 - val_department_output_accuracy: 0.6440 - val_department_output_loss: 0.8142 - val_loss: 1.1564\n",
      "Epoch 15/50\n",
      "\u001b[1m35/35\u001b[0m \u001b[32m━━━━━━━━━━━━━━━━━━━━\u001b[0m\u001b[37m\u001b[0m \u001b[1m0s\u001b[0m 596us/step - attrition_output_accuracy: 0.8779 - attrition_output_loss: 0.2935 - department_output_accuracy: 0.6778 - department_output_loss: 0.7201 - loss: 1.0135 - val_attrition_output_accuracy: 0.8777 - val_attrition_output_loss: 0.3527 - val_department_output_accuracy: 0.6495 - val_department_output_loss: 0.8157 - val_loss: 1.1624\n",
      "Epoch 16/50\n",
      "\u001b[1m35/35\u001b[0m \u001b[32m━━━━━━━━━━━━━━━━━━━━\u001b[0m\u001b[37m\u001b[0m \u001b[1m0s\u001b[0m 600us/step - attrition_output_accuracy: 0.8776 - attrition_output_loss: 0.2998 - department_output_accuracy: 0.6581 - department_output_loss: 0.7269 - loss: 1.0268 - val_attrition_output_accuracy: 0.8696 - val_attrition_output_loss: 0.3524 - val_department_output_accuracy: 0.6467 - val_department_output_loss: 0.8187 - val_loss: 1.1639\n",
      "Epoch 17/50\n",
      "\u001b[1m35/35\u001b[0m \u001b[32m━━━━━━━━━━━━━━━━━━━━\u001b[0m\u001b[37m\u001b[0m \u001b[1m0s\u001b[0m 631us/step - attrition_output_accuracy: 0.8736 - attrition_output_loss: 0.3324 - department_output_accuracy: 0.6595 - department_output_loss: 0.7106 - loss: 1.0429 - val_attrition_output_accuracy: 0.8750 - val_attrition_output_loss: 0.3482 - val_department_output_accuracy: 0.6440 - val_department_output_loss: 0.8196 - val_loss: 1.1625\n",
      "Epoch 18/50\n",
      "\u001b[1m35/35\u001b[0m \u001b[32m━━━━━━━━━━━━━━━━━━━━\u001b[0m\u001b[37m\u001b[0m \u001b[1m0s\u001b[0m 619us/step - attrition_output_accuracy: 0.8814 - attrition_output_loss: 0.2881 - department_output_accuracy: 0.6935 - department_output_loss: 0.6896 - loss: 0.9776 - val_attrition_output_accuracy: 0.8832 - val_attrition_output_loss: 0.3491 - val_department_output_accuracy: 0.6304 - val_department_output_loss: 0.8235 - val_loss: 1.1682\n",
      "Epoch 19/50\n",
      "\u001b[1m35/35\u001b[0m \u001b[32m━━━━━━━━━━━━━━━━━━━━\u001b[0m\u001b[37m\u001b[0m \u001b[1m0s\u001b[0m 602us/step - attrition_output_accuracy: 0.8660 - attrition_output_loss: 0.3088 - department_output_accuracy: 0.6852 - department_output_loss: 0.6890 - loss: 0.9976 - val_attrition_output_accuracy: 0.8750 - val_attrition_output_loss: 0.3562 - val_department_output_accuracy: 0.6277 - val_department_output_loss: 0.8248 - val_loss: 1.1749\n",
      "Epoch 20/50\n",
      "\u001b[1m35/35\u001b[0m \u001b[32m━━━━━━━━━━━━━━━━━━━━\u001b[0m\u001b[37m\u001b[0m \u001b[1m0s\u001b[0m 600us/step - attrition_output_accuracy: 0.8814 - attrition_output_loss: 0.3029 - department_output_accuracy: 0.6858 - department_output_loss: 0.6984 - loss: 1.0012 - val_attrition_output_accuracy: 0.8750 - val_attrition_output_loss: 0.3560 - val_department_output_accuracy: 0.6413 - val_department_output_loss: 0.8224 - val_loss: 1.1734\n",
      "Epoch 21/50\n",
      "\u001b[1m35/35\u001b[0m \u001b[32m━━━━━━━━━━━━━━━━━━━━\u001b[0m\u001b[37m\u001b[0m \u001b[1m0s\u001b[0m 637us/step - attrition_output_accuracy: 0.8904 - attrition_output_loss: 0.2706 - department_output_accuracy: 0.6797 - department_output_loss: 0.6899 - loss: 0.9603 - val_attrition_output_accuracy: 0.8696 - val_attrition_output_loss: 0.3621 - val_department_output_accuracy: 0.6304 - val_department_output_loss: 0.8275 - val_loss: 1.1842\n",
      "Epoch 22/50\n",
      "\u001b[1m35/35\u001b[0m \u001b[32m━━━━━━━━━━━━━━━━━━━━\u001b[0m\u001b[37m\u001b[0m \u001b[1m0s\u001b[0m 578us/step - attrition_output_accuracy: 0.8873 - attrition_output_loss: 0.2889 - department_output_accuracy: 0.6902 - department_output_loss: 0.6734 - loss: 0.9625 - val_attrition_output_accuracy: 0.8750 - val_attrition_output_loss: 0.3622 - val_department_output_accuracy: 0.6332 - val_department_output_loss: 0.8299 - val_loss: 1.1879\n",
      "Epoch 23/50\n",
      "\u001b[1m35/35\u001b[0m \u001b[32m━━━━━━━━━━━━━━━━━━━━\u001b[0m\u001b[37m\u001b[0m \u001b[1m0s\u001b[0m 639us/step - attrition_output_accuracy: 0.8756 - attrition_output_loss: 0.3042 - department_output_accuracy: 0.6659 - department_output_loss: 0.7019 - loss: 1.0059 - val_attrition_output_accuracy: 0.8859 - val_attrition_output_loss: 0.3595 - val_department_output_accuracy: 0.6440 - val_department_output_loss: 0.8310 - val_loss: 1.1862\n",
      "Epoch 24/50\n",
      "\u001b[1m35/35\u001b[0m \u001b[32m━━━━━━━━━━━━━━━━━━━━\u001b[0m\u001b[37m\u001b[0m \u001b[1m0s\u001b[0m 640us/step - attrition_output_accuracy: 0.8835 - attrition_output_loss: 0.2892 - department_output_accuracy: 0.7090 - department_output_loss: 0.6464 - loss: 0.9359 - val_attrition_output_accuracy: 0.8859 - val_attrition_output_loss: 0.3709 - val_department_output_accuracy: 0.6250 - val_department_output_loss: 0.8354 - val_loss: 1.2021\n",
      "Epoch 25/50\n",
      "\u001b[1m35/35\u001b[0m \u001b[32m━━━━━━━━━━━━━━━━━━━━\u001b[0m\u001b[37m\u001b[0m \u001b[1m0s\u001b[0m 642us/step - attrition_output_accuracy: 0.8816 - attrition_output_loss: 0.2778 - department_output_accuracy: 0.7011 - department_output_loss: 0.6699 - loss: 0.9477 - val_attrition_output_accuracy: 0.8832 - val_attrition_output_loss: 0.3721 - val_department_output_accuracy: 0.6467 - val_department_output_loss: 0.8397 - val_loss: 1.2079\n",
      "Epoch 26/50\n",
      "\u001b[1m35/35\u001b[0m \u001b[32m━━━━━━━━━━━━━━━━━━━━\u001b[0m\u001b[37m\u001b[0m \u001b[1m0s\u001b[0m 629us/step - attrition_output_accuracy: 0.8881 - attrition_output_loss: 0.2657 - department_output_accuracy: 0.7160 - department_output_loss: 0.6422 - loss: 0.9081 - val_attrition_output_accuracy: 0.8832 - val_attrition_output_loss: 0.3695 - val_department_output_accuracy: 0.6141 - val_department_output_loss: 0.8427 - val_loss: 1.2081\n",
      "Epoch 27/50\n",
      "\u001b[1m35/35\u001b[0m \u001b[32m━━━━━━━━━━━━━━━━━━━━\u001b[0m\u001b[37m\u001b[0m \u001b[1m0s\u001b[0m 580us/step - attrition_output_accuracy: 0.8882 - attrition_output_loss: 0.2702 - department_output_accuracy: 0.6769 - department_output_loss: 0.6781 - loss: 0.9482 - val_attrition_output_accuracy: 0.8696 - val_attrition_output_loss: 0.3743 - val_department_output_accuracy: 0.6250 - val_department_output_loss: 0.8456 - val_loss: 1.2151\n",
      "Epoch 28/50\n",
      "\u001b[1m35/35\u001b[0m \u001b[32m━━━━━━━━━━━━━━━━━━━━\u001b[0m\u001b[37m\u001b[0m \u001b[1m0s\u001b[0m 618us/step - attrition_output_accuracy: 0.8894 - attrition_output_loss: 0.2934 - department_output_accuracy: 0.6915 - department_output_loss: 0.6783 - loss: 0.9719 - val_attrition_output_accuracy: 0.8804 - val_attrition_output_loss: 0.3704 - val_department_output_accuracy: 0.6087 - val_department_output_loss: 0.8476 - val_loss: 1.2138\n",
      "Epoch 29/50\n",
      "\u001b[1m35/35\u001b[0m \u001b[32m━━━━━━━━━━━━━━━━━━━━\u001b[0m\u001b[37m\u001b[0m \u001b[1m0s\u001b[0m 625us/step - attrition_output_accuracy: 0.8986 - attrition_output_loss: 0.2591 - department_output_accuracy: 0.6987 - department_output_loss: 0.6592 - loss: 0.9184 - val_attrition_output_accuracy: 0.8832 - val_attrition_output_loss: 0.3713 - val_department_output_accuracy: 0.6087 - val_department_output_loss: 0.8508 - val_loss: 1.2170\n",
      "Epoch 30/50\n",
      "\u001b[1m35/35\u001b[0m \u001b[32m━━━━━━━━━━━━━━━━━━━━\u001b[0m\u001b[37m\u001b[0m \u001b[1m0s\u001b[0m 595us/step - attrition_output_accuracy: 0.8944 - attrition_output_loss: 0.2689 - department_output_accuracy: 0.6980 - department_output_loss: 0.6465 - loss: 0.9156 - val_attrition_output_accuracy: 0.8832 - val_attrition_output_loss: 0.3747 - val_department_output_accuracy: 0.6304 - val_department_output_loss: 0.8655 - val_loss: 1.2360\n",
      "Epoch 31/50\n",
      "\u001b[1m35/35\u001b[0m \u001b[32m━━━━━━━━━━━━━━━━━━━━\u001b[0m\u001b[37m\u001b[0m \u001b[1m0s\u001b[0m 584us/step - attrition_output_accuracy: 0.8943 - attrition_output_loss: 0.2794 - department_output_accuracy: 0.6992 - department_output_loss: 0.6581 - loss: 0.9374 - val_attrition_output_accuracy: 0.8560 - val_attrition_output_loss: 0.3921 - val_department_output_accuracy: 0.6223 - val_department_output_loss: 0.8607 - val_loss: 1.2476\n",
      "Epoch 32/50\n",
      "\u001b[1m35/35\u001b[0m \u001b[32m━━━━━━━━━━━━━━━━━━━━\u001b[0m\u001b[37m\u001b[0m \u001b[1m0s\u001b[0m 633us/step - attrition_output_accuracy: 0.9152 - attrition_output_loss: 0.2564 - department_output_accuracy: 0.7222 - department_output_loss: 0.6060 - loss: 0.8624 - val_attrition_output_accuracy: 0.8668 - val_attrition_output_loss: 0.3863 - val_department_output_accuracy: 0.6005 - val_department_output_loss: 0.8627 - val_loss: 1.2443\n",
      "Epoch 33/50\n",
      "\u001b[1m35/35\u001b[0m \u001b[32m━━━━━━━━━━━━━━━━━━━━\u001b[0m\u001b[37m\u001b[0m \u001b[1m0s\u001b[0m 642us/step - attrition_output_accuracy: 0.8921 - attrition_output_loss: 0.2611 - department_output_accuracy: 0.6970 - department_output_loss: 0.6495 - loss: 0.9107 - val_attrition_output_accuracy: 0.8641 - val_attrition_output_loss: 0.3871 - val_department_output_accuracy: 0.5924 - val_department_output_loss: 0.8689 - val_loss: 1.2534\n",
      "Epoch 34/50\n",
      "\u001b[1m35/35\u001b[0m \u001b[32m━━━━━━━━━━━━━━━━━━━━\u001b[0m\u001b[37m\u001b[0m \u001b[1m0s\u001b[0m 590us/step - attrition_output_accuracy: 0.9141 - attrition_output_loss: 0.2297 - department_output_accuracy: 0.7025 - department_output_loss: 0.6485 - loss: 0.8781 - val_attrition_output_accuracy: 0.8696 - val_attrition_output_loss: 0.3885 - val_department_output_accuracy: 0.6005 - val_department_output_loss: 0.8733 - val_loss: 1.2573\n",
      "Epoch 35/50\n",
      "\u001b[1m35/35\u001b[0m \u001b[32m━━━━━━━━━━━━━━━━━━━━\u001b[0m\u001b[37m\u001b[0m \u001b[1m0s\u001b[0m 587us/step - attrition_output_accuracy: 0.9154 - attrition_output_loss: 0.2254 - department_output_accuracy: 0.7203 - department_output_loss: 0.6180 - loss: 0.8436 - val_attrition_output_accuracy: 0.8777 - val_attrition_output_loss: 0.3908 - val_department_output_accuracy: 0.5761 - val_department_output_loss: 0.8787 - val_loss: 1.2657\n",
      "Epoch 36/50\n",
      "\u001b[1m35/35\u001b[0m \u001b[32m━━━━━━━━━━━━━━━━━━━━\u001b[0m\u001b[37m\u001b[0m \u001b[1m0s\u001b[0m 659us/step - attrition_output_accuracy: 0.9126 - attrition_output_loss: 0.2304 - department_output_accuracy: 0.7371 - department_output_loss: 0.6129 - loss: 0.8434 - val_attrition_output_accuracy: 0.8505 - val_attrition_output_loss: 0.4037 - val_department_output_accuracy: 0.5815 - val_department_output_loss: 0.8821 - val_loss: 1.2836\n",
      "Epoch 37/50\n",
      "\u001b[1m35/35\u001b[0m \u001b[32m━━━━━━━━━━━━━━━━━━━━\u001b[0m\u001b[37m\u001b[0m \u001b[1m0s\u001b[0m 658us/step - attrition_output_accuracy: 0.9207 - attrition_output_loss: 0.2438 - department_output_accuracy: 0.7363 - department_output_loss: 0.6028 - loss: 0.8463 - val_attrition_output_accuracy: 0.8668 - val_attrition_output_loss: 0.4014 - val_department_output_accuracy: 0.5707 - val_department_output_loss: 0.8850 - val_loss: 1.2844\n",
      "Epoch 38/50\n",
      "\u001b[1m35/35\u001b[0m \u001b[32m━━━━━━━━━━━━━━━━━━━━\u001b[0m\u001b[37m\u001b[0m \u001b[1m0s\u001b[0m 621us/step - attrition_output_accuracy: 0.9084 - attrition_output_loss: 0.2310 - department_output_accuracy: 0.7666 - department_output_loss: 0.5821 - loss: 0.8132 - val_attrition_output_accuracy: 0.8587 - val_attrition_output_loss: 0.4020 - val_department_output_accuracy: 0.5625 - val_department_output_loss: 0.8948 - val_loss: 1.2945\n",
      "Epoch 39/50\n",
      "\u001b[1m35/35\u001b[0m \u001b[32m━━━━━━━━━━━━━━━━━━━━\u001b[0m\u001b[37m\u001b[0m \u001b[1m0s\u001b[0m 584us/step - attrition_output_accuracy: 0.9062 - attrition_output_loss: 0.2395 - department_output_accuracy: 0.7364 - department_output_loss: 0.6172 - loss: 0.8567 - val_attrition_output_accuracy: 0.8560 - val_attrition_output_loss: 0.4153 - val_department_output_accuracy: 0.5870 - val_department_output_loss: 0.8979 - val_loss: 1.3098\n",
      "Epoch 40/50\n",
      "\u001b[1m35/35\u001b[0m \u001b[32m━━━━━━━━━━━━━━━━━━━━\u001b[0m\u001b[37m\u001b[0m \u001b[1m0s\u001b[0m 582us/step - attrition_output_accuracy: 0.9177 - attrition_output_loss: 0.2108 - department_output_accuracy: 0.7405 - department_output_loss: 0.5813 - loss: 0.7924 - val_attrition_output_accuracy: 0.8614 - val_attrition_output_loss: 0.4190 - val_department_output_accuracy: 0.5815 - val_department_output_loss: 0.9111 - val_loss: 1.3289\n",
      "Epoch 41/50\n",
      "\u001b[1m35/35\u001b[0m \u001b[32m━━━━━━━━━━━━━━━━━━━━\u001b[0m\u001b[37m\u001b[0m \u001b[1m0s\u001b[0m 604us/step - attrition_output_accuracy: 0.9261 - attrition_output_loss: 0.2033 - department_output_accuracy: 0.7231 - department_output_loss: 0.5922 - loss: 0.7952 - val_attrition_output_accuracy: 0.8587 - val_attrition_output_loss: 0.4122 - val_department_output_accuracy: 0.5788 - val_department_output_loss: 0.9148 - val_loss: 1.3248\n",
      "Epoch 42/50\n",
      "\u001b[1m35/35\u001b[0m \u001b[32m━━━━━━━━━━━━━━━━━━━━\u001b[0m\u001b[37m\u001b[0m \u001b[1m0s\u001b[0m 578us/step - attrition_output_accuracy: 0.9189 - attrition_output_loss: 0.2084 - department_output_accuracy: 0.7482 - department_output_loss: 0.5983 - loss: 0.8064 - val_attrition_output_accuracy: 0.8696 - val_attrition_output_loss: 0.4190 - val_department_output_accuracy: 0.5870 - val_department_output_loss: 0.9154 - val_loss: 1.3317\n",
      "Epoch 43/50\n",
      "\u001b[1m35/35\u001b[0m \u001b[32m━━━━━━━━━━━━━━━━━━━━\u001b[0m\u001b[37m\u001b[0m \u001b[1m0s\u001b[0m 604us/step - attrition_output_accuracy: 0.9290 - attrition_output_loss: 0.2073 - department_output_accuracy: 0.7573 - department_output_loss: 0.5822 - loss: 0.7896 - val_attrition_output_accuracy: 0.8587 - val_attrition_output_loss: 0.4271 - val_department_output_accuracy: 0.5598 - val_department_output_loss: 0.9258 - val_loss: 1.3520\n",
      "Epoch 44/50\n",
      "\u001b[1m35/35\u001b[0m \u001b[32m━━━━━━━━━━━━━━━━━━━━\u001b[0m\u001b[37m\u001b[0m \u001b[1m0s\u001b[0m 579us/step - attrition_output_accuracy: 0.9335 - attrition_output_loss: 0.2091 - department_output_accuracy: 0.7576 - department_output_loss: 0.5897 - loss: 0.7987 - val_attrition_output_accuracy: 0.8560 - val_attrition_output_loss: 0.4329 - val_department_output_accuracy: 0.5951 - val_department_output_loss: 0.9311 - val_loss: 1.3612\n",
      "Epoch 45/50\n",
      "\u001b[1m35/35\u001b[0m \u001b[32m━━━━━━━━━━━━━━━━━━━━\u001b[0m\u001b[37m\u001b[0m \u001b[1m0s\u001b[0m 589us/step - attrition_output_accuracy: 0.9227 - attrition_output_loss: 0.2124 - department_output_accuracy: 0.7414 - department_output_loss: 0.5680 - loss: 0.7803 - val_attrition_output_accuracy: 0.8614 - val_attrition_output_loss: 0.4346 - val_department_output_accuracy: 0.5571 - val_department_output_loss: 0.9405 - val_loss: 1.3767\n",
      "Epoch 46/50\n",
      "\u001b[1m35/35\u001b[0m \u001b[32m━━━━━━━━━━━━━━━━━━━━\u001b[0m\u001b[37m\u001b[0m \u001b[1m0s\u001b[0m 582us/step - attrition_output_accuracy: 0.9135 - attrition_output_loss: 0.1974 - department_output_accuracy: 0.7566 - department_output_loss: 0.5768 - loss: 0.7746 - val_attrition_output_accuracy: 0.8397 - val_attrition_output_loss: 0.4536 - val_department_output_accuracy: 0.5625 - val_department_output_loss: 0.9386 - val_loss: 1.3898\n",
      "Epoch 47/50\n",
      "\u001b[1m35/35\u001b[0m \u001b[32m━━━━━━━━━━━━━━━━━━━━\u001b[0m\u001b[37m\u001b[0m \u001b[1m0s\u001b[0m 585us/step - attrition_output_accuracy: 0.9291 - attrition_output_loss: 0.1891 - department_output_accuracy: 0.7697 - department_output_loss: 0.5654 - loss: 0.7547 - val_attrition_output_accuracy: 0.8614 - val_attrition_output_loss: 0.4450 - val_department_output_accuracy: 0.5652 - val_department_output_loss: 0.9415 - val_loss: 1.3866\n",
      "Epoch 48/50\n",
      "\u001b[1m35/35\u001b[0m \u001b[32m━━━━━━━━━━━━━━━━━━━━\u001b[0m\u001b[37m\u001b[0m \u001b[1m0s\u001b[0m 665us/step - attrition_output_accuracy: 0.9131 - attrition_output_loss: 0.2123 - department_output_accuracy: 0.7785 - department_output_loss: 0.5420 - loss: 0.7540 - val_attrition_output_accuracy: 0.8668 - val_attrition_output_loss: 0.4497 - val_department_output_accuracy: 0.5897 - val_department_output_loss: 0.9606 - val_loss: 1.4094\n",
      "Epoch 49/50\n",
      "\u001b[1m35/35\u001b[0m \u001b[32m━━━━━━━━━━━━━━━━━━━━\u001b[0m\u001b[37m\u001b[0m \u001b[1m0s\u001b[0m 660us/step - attrition_output_accuracy: 0.9273 - attrition_output_loss: 0.1932 - department_output_accuracy: 0.7837 - department_output_loss: 0.5270 - loss: 0.7203 - val_attrition_output_accuracy: 0.8696 - val_attrition_output_loss: 0.4433 - val_department_output_accuracy: 0.5516 - val_department_output_loss: 0.9656 - val_loss: 1.4074\n",
      "Epoch 50/50\n",
      "\u001b[1m35/35\u001b[0m \u001b[32m━━━━━━━━━━━━━━━━━━━━\u001b[0m\u001b[37m\u001b[0m \u001b[1m0s\u001b[0m 642us/step - attrition_output_accuracy: 0.9284 - attrition_output_loss: 0.1896 - department_output_accuracy: 0.7815 - department_output_loss: 0.5434 - loss: 0.7330 - val_attrition_output_accuracy: 0.8505 - val_attrition_output_loss: 0.4535 - val_department_output_accuracy: 0.5462 - val_department_output_loss: 0.9606 - val_loss: 1.4133\n"
     ]
    }
   ],
   "source": [
    "# Train the model\n",
    "history = model.fit(X_train_scaled, \n",
    "                    {'attrition_output': y_train_attrition_encoded, \n",
    "                     'department_output': y_train_department_encoded}, \n",
    "                    epochs=50, \n",
    "                    batch_size=32, \n",
    "                    validation_data=(X_test_scaled, \n",
    "                                     {'attrition_output': y_test_attrition_encoded, \n",
    "                                      'department_output': y_test_department_encoded}))\n"
   ]
  },
  {
   "cell_type": "code",
   "execution_count": 17,
   "metadata": {
    "colab": {
     "base_uri": "https://localhost:8080/"
    },
    "id": "VsMoaQlgGc3U",
    "outputId": "1bd4e601-e964-4abc-ad83-aeecf6b696be"
   },
   "outputs": [
    {
     "name": "stdout",
     "output_type": "stream",
     "text": [
      "12/12 [==============================] - 0s 3ms/step - loss: 4.1624 - department_output_loss: 3.1143 - attrition_output_loss: 1.0481 - department_output_accuracy: 0.5272 - attrition_output_accuracy: 0.8261\n"
     ]
    },
    {
     "data": {
      "text/plain": [
       "[4.162380218505859,\n",
       " 3.114327907562256,\n",
       " 1.0480519533157349,\n",
       " 0.5271739363670349,\n",
       " 0.8260869383811951]"
      ]
     },
     "execution_count": 17,
     "metadata": {},
     "output_type": "execute_result"
    }
   ],
   "source": [
    "# Evaluate the model with the testing data\n",
    "evaluation = model.evaluate(X_test_scaled, [y_test_attrition_encoded, y_test_department_encoded], verbose=1)\n"
   ]
  },
  {
   "cell_type": "code",
   "execution_count": 27,
   "metadata": {},
   "outputs": [
    {
     "name": "stdout",
     "output_type": "stream",
     "text": [
      "\u001b[1m12/12\u001b[0m \u001b[32m━━━━━━━━━━━━━━━━━━━━\u001b[0m\u001b[37m\u001b[0m \u001b[1m0s\u001b[0m 409us/step - attrition_output_accuracy: 0.8374 - attrition_output_loss: 0.5228 - department_output_accuracy: 0.5365 - department_output_loss: 0.9495 - loss: 1.4722\n"
     ]
    },
    {
     "data": {
      "text/plain": [
       "[1.413283109664917,\n",
       " 0.45349693298339844,\n",
       " 0.9606149792671204,\n",
       " 0.8505434989929199,\n",
       " 0.5461956262588501]"
      ]
     },
     "execution_count": 27,
     "metadata": {},
     "output_type": "execute_result"
    }
   ],
   "source": [
    "# Evaluate the model with the testing data\n",
    "evaluation = model.evaluate(X_test_scaled, [y_test_attrition_encoded, y_test_department_encoded], verbose=1)\n",
    "evaluation"
   ]
  },
  {
   "cell_type": "code",
   "execution_count": 30,
   "metadata": {},
   "outputs": [
    {
     "name": "stdout",
     "output_type": "stream",
     "text": [
      "Department Accuracy: 0.8505434989929199\n",
      "Attrition Accuracy: 0.5461956262588501\n"
     ]
    }
   ],
   "source": [
    "department_accuracy = evaluation[3] \n",
    "attrition_accuracy = evaluation[4]   \n",
    "\n",
    "# Print the accuracy for both outputs\n",
    "print(f\"Department Accuracy: {department_accuracy}\")\n",
    "print(f\"Attrition Accuracy: {attrition_accuracy}\")"
   ]
  },
  {
   "cell_type": "markdown",
   "metadata": {
    "id": "eGSyfsZfWOQM"
   },
   "source": [
    "# Summary\n",
    "\n",
    "In the provided space below, briefly answer the following questions.\n",
    "\n",
    "1. Is accuracy the best metric to use on this data? Why or why not?\n",
    "\n",
    "2. What activation functions did you choose for your output layers, and why?\n",
    "\n",
    "3. Can you name a few ways that this model might be improved?"
   ]
  },
  {
   "cell_type": "markdown",
   "metadata": {
    "id": "pi9SLpFnWvbF"
   },
   "source": [
    "YOUR ANSWERS HERE\n",
    "\n",
    "1.Accuracy may not be the best metric due to potential class imbalances; a model can achieve high accuracy by simply predicting the majority class without effectively learning to predict the minority class. In such cases, metrics like the F1-score, precision, or recall provide a more comprehensive view of performance.\n",
    "2. I used the softmax activation function for both output layers because it outputs probabilities for each class, making it suitable for multi-class classification. Softmax ensures that the predicted probabilities sum to 1, facilitating clear decision-making for each category.\n",
    "3.To improve the model, consider enhancing feature engineering by deriving new features or interactions, addressing missing values, and experimenting with deeper architectures or regularization techniques. Additionally, hyperparameter tuning, cross-validation, and implementing ensemble methods can significantly boost the model’s performance and robustness."
   ]
  },
  {
   "cell_type": "markdown",
   "metadata": {},
   "source": []
  }
 ],
 "metadata": {
  "colab": {
   "provenance": []
  },
  "kernelspec": {
   "display_name": "Python 3 (ipykernel)",
   "language": "python",
   "name": "python3"
  },
  "language_info": {
   "codemirror_mode": {
    "name": "ipython",
    "version": 3
   },
   "file_extension": ".py",
   "mimetype": "text/x-python",
   "name": "python",
   "nbconvert_exporter": "python",
   "pygments_lexer": "ipython3",
   "version": "3.10.14"
  },
  "vscode": {
   "interpreter": {
    "hash": "31f2aee4e71d21fbe5cf8b01ff0e069b9275f58929596ceb00d14d90e3e16cd6"
   }
  }
 },
 "nbformat": 4,
 "nbformat_minor": 4
}
